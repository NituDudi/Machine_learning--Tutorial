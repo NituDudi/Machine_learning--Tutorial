{
 "cells": [
  {
   "cell_type": "code",
   "execution_count": 1,
   "id": "8c87e325-b09c-4078-91ef-234e62dee694",
   "metadata": {},
   "outputs": [],
   "source": [
    "import numpy as np\n",
    "from sklearn.datasets import make_classification\n",
    "from sklearn.model_selection import train_test_split\n",
    "\n",
    "X, y= make_classification(\n",
    "    n_features= 10,\n",
    "    n_samples= 1000,\n",
    "    n_informative= 8,\n",
    "    n_redundant= 2,\n",
    "    n_repeated=0,\n",
    "    n_classes= 2,\n",
    "    random_state= 42\n",
    ")\n",
    "\n",
    "X_train, X_test, y_train, y_test= train_test_split(X, y, test_size= 0.25, random_state= 42)"
   ]
  },
  {
   "cell_type": "code",
   "execution_count": 2,
   "id": "7ca69767-ba98-45c5-a6c0-2fcb1e38275a",
   "metadata": {},
   "outputs": [
    {
     "name": "stdout",
     "output_type": "stream",
     "text": [
      "              precision    recall  f1-score   support\n",
      "\n",
      "           0       0.73      0.65      0.69       130\n",
      "           1       0.66      0.74      0.70       120\n",
      "\n",
      "    accuracy                           0.70       250\n",
      "   macro avg       0.70      0.70      0.70       250\n",
      "weighted avg       0.70      0.70      0.70       250\n",
      "\n"
     ]
    }
   ],
   "source": [
    "from sklearn.linear_model import LogisticRegression\n",
    "from sklearn.metrics import classification_report\n",
    "\n",
    "model= LogisticRegression()\n",
    "model.fit(X_train, y_train)\n",
    "\n",
    "y_pred= model.predict(X_test)\n",
    "report= classification_report(y_test, y_pred)\n",
    "print(report)"
   ]
  },
  {
   "cell_type": "code",
   "execution_count": 3,
   "id": "373eaddf-ea29-444f-b965-19bd9efba178",
   "metadata": {},
   "outputs": [
    {
     "name": "stdout",
     "output_type": "stream",
     "text": [
      "[0 2 3 4] [1]\n",
      "[0 1 2 3] [4]\n",
      "[0 1 3 4] [2]\n",
      "[1 2 3 4] [0]\n",
      "[0 1 2 4] [3]\n"
     ]
    }
   ],
   "source": [
    "from sklearn.model_selection import KFold\n",
    "\n",
    "kf= KFold(n_splits= 5, shuffle= True, random_state= 42)\n",
    "\n",
    "for train_idx, test_idx in kf.split([10, 20, 30, 40, 50]):\n",
    "    print(train_idx, test_idx)\n"
   ]
  },
  {
   "cell_type": "code",
   "execution_count": 6,
   "id": "7449c6b2-6fbb-41aa-a143-f02603ebc75f",
   "metadata": {},
   "outputs": [
    {
     "name": "stdout",
     "output_type": "stream",
     "text": [
      "0.72\n"
     ]
    }
   ],
   "source": [
    "for train_idx, test_idx in kf.split(X, y):\n",
    "    X_train, X_test = X[train_idx], X[test_idx]\n",
    "    y_train, y_test= y[train_idx], y[test_idx]\n",
    "\n",
    "model.fit(X_train, y_train)\n",
    "print(model.score(X_test, y_test))"
   ]
  },
  {
   "cell_type": "markdown",
   "id": "c0a2645c-8965-4290-83c9-94a18b631d83",
   "metadata": {},
   "source": [
    "<h3>Logistic Regression</h3>"
   ]
  },
  {
   "cell_type": "code",
   "execution_count": 14,
   "id": "23cc9ce8-e410-47a0-acb8-ffd773a9da8d",
   "metadata": {},
   "outputs": [
    {
     "data": {
      "text/plain": [
       "np.float64(0.6950000000000001)"
      ]
     },
     "execution_count": 14,
     "metadata": {},
     "output_type": "execute_result"
    }
   ],
   "source": [
    "from sklearn.model_selection import cross_val_score\n",
    "import numpy as np\n",
    "\n",
    "score_lr= cross_val_score(LogisticRegression(), X, y, cv= kf)\n",
    "np.average(score_lr)"
   ]
  },
  {
   "cell_type": "markdown",
   "id": "e5f7dfb5-4b1a-40b6-b3c5-ada90ceede65",
   "metadata": {},
   "source": [
    "<h3>Decision Tree</h3>"
   ]
  },
  {
   "cell_type": "code",
   "execution_count": 15,
   "id": "8b808052-52a1-4a39-b473-431a2638a25c",
   "metadata": {},
   "outputs": [
    {
     "data": {
      "text/plain": [
       "np.float64(0.776)"
      ]
     },
     "execution_count": 15,
     "metadata": {},
     "output_type": "execute_result"
    }
   ],
   "source": [
    "from sklearn.tree import DecisionTreeClassifier\n",
    "\n",
    "score_dt= cross_val_score(DecisionTreeClassifier(), X, y, cv= kf)\n",
    "np.average(score_dt)"
   ]
  },
  {
   "cell_type": "markdown",
   "id": "44982f94-f21b-4645-b917-24cca0060bb5",
   "metadata": {},
   "source": [
    "<h3>Random Forest Classifier</h3>"
   ]
  },
  {
   "cell_type": "code",
   "execution_count": 16,
   "id": "ab09fb00-2ed1-47f3-a468-4cc089fb23f6",
   "metadata": {},
   "outputs": [
    {
     "data": {
      "text/plain": [
       "np.float64(0.8880000000000001)"
      ]
     },
     "execution_count": 16,
     "metadata": {},
     "output_type": "execute_result"
    }
   ],
   "source": [
    "from sklearn.ensemble import RandomForestClassifier\n",
    "\n",
    "score_rf= cross_val_score(RandomForestClassifier(), X, y, cv= kf)\n",
    "np.average(score_rf)"
   ]
  },
  {
   "cell_type": "code",
   "execution_count": 20,
   "id": "fe7a4456-d387-4925-8df3-58c144c4c580",
   "metadata": {},
   "outputs": [
    {
     "data": {
      "text/plain": [
       "np.float64(0.893)"
      ]
     },
     "execution_count": 20,
     "metadata": {},
     "output_type": "execute_result"
    }
   ],
   "source": [
    "score_rf= cross_val_score(RandomForestClassifier(), X, y, cv= kf, scoring= \"accuracy\")\n",
    "np.average(score_rf)"
   ]
  },
  {
   "cell_type": "code",
   "execution_count": 21,
   "id": "1aafb824-cfc5-4218-b449-7adc0cf8b2af",
   "metadata": {},
   "outputs": [
    {
     "data": {
      "text/plain": [
       "{'fit_time': array([0.01017237, 0.00974083, 0.01757836, 0.02070594, 0.02025938]),\n",
       " 'score_time': array([0.00316191, 0.00253582, 0.00570035, 0.00581646, 0.00526404]),\n",
       " 'test_accuracy': array([0.72 , 0.81 , 0.78 , 0.845, 0.81 ]),\n",
       " 'test_roc_auc': array([0.71778402, 0.80872349, 0.78151261, 0.84655449, 0.81232437])}"
      ]
     },
     "execution_count": 21,
     "metadata": {},
     "output_type": "execute_result"
    }
   ],
   "source": [
    "from sklearn.model_selection import cross_validate\n",
    "\n",
    "cross_validate(DecisionTreeClassifier(), X, y, cv= kf, scoring= [\"accuracy\", \"roc_auc\"])"
   ]
  }
 ],
 "metadata": {
  "kernelspec": {
   "display_name": "Python 3 (ipykernel)",
   "language": "python",
   "name": "python3"
  },
  "language_info": {
   "codemirror_mode": {
    "name": "ipython",
    "version": 3
   },
   "file_extension": ".py",
   "mimetype": "text/x-python",
   "name": "python",
   "nbconvert_exporter": "python",
   "pygments_lexer": "ipython3",
   "version": "3.13.7"
  }
 },
 "nbformat": 4,
 "nbformat_minor": 5
}
