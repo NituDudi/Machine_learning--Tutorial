{
 "cells": [
  {
   "cell_type": "markdown",
   "id": "4948bd0d-a14b-4ff2-b45b-011b4faf77bd",
   "metadata": {},
   "source": [
    "###Creating Synthetic Data"
   ]
  },
  {
   "cell_type": "code",
   "execution_count": 6,
   "id": "45b3f207-1507-4374-85e5-8573723d2adc",
   "metadata": {},
   "outputs": [],
   "source": [
    "from sklearn.datasets import make_classification\n",
    "\n",
    "X, y= make_classification(\n",
    "    n_samples= 10000,\n",
    "    n_features= 10,\n",
    "    n_informative= 4,\n",
    "    n_redundant= 6,\n",
    "    n_repeated= 0,\n",
    "    n_classes= 3,\n",
    "    random_state= 42\n",
    ")"
   ]
  },
  {
   "cell_type": "code",
   "execution_count": 7,
   "id": "b16251f2-abfd-48ba-9196-82df112765e6",
   "metadata": {},
   "outputs": [
    {
     "data": {
      "text/plain": [
       "array([[ 0.45624735, -0.18072945, -0.44017371,  0.28259698,  0.87088309,\n",
       "         0.78725358, -1.29479473,  0.48097997,  1.13269355,  0.60906977],\n",
       "       [ 3.07521217, -0.84516134,  0.34138162, -1.03855372,  1.73211428,\n",
       "         4.59761987, -5.28111711, -0.35028549,  4.64431303,  2.07513362]])"
      ]
     },
     "execution_count": 7,
     "metadata": {},
     "output_type": "execute_result"
    }
   ],
   "source": [
    "X[:2]"
   ]
  },
  {
   "cell_type": "code",
   "execution_count": 8,
   "id": "22ddd261-bfd5-466b-901d-5b8c97af4f52",
   "metadata": {},
   "outputs": [
    {
     "data": {
      "text/plain": [
       "array([1, 0])"
      ]
     },
     "execution_count": 8,
     "metadata": {},
     "output_type": "execute_result"
    }
   ],
   "source": [
    "y[:2]"
   ]
  },
  {
   "cell_type": "code",
   "execution_count": 9,
   "id": "d6e820e7-325d-47aa-a70c-cfadbd033458",
   "metadata": {},
   "outputs": [
    {
     "data": {
      "text/plain": [
       "(10000, 10)"
      ]
     },
     "execution_count": 9,
     "metadata": {},
     "output_type": "execute_result"
    }
   ],
   "source": [
    "X.shape"
   ]
  },
  {
   "cell_type": "code",
   "execution_count": 11,
   "id": "54c82e17-d410-49e7-bb88-8f5c4f1c20b5",
   "metadata": {},
   "outputs": [
    {
     "name": "stdout",
     "output_type": "stream",
     "text": [
      "              precision    recall  f1-score   support\n",
      "\n",
      "           0       0.74      0.78      0.76       691\n",
      "           1       0.60      0.63      0.61       642\n",
      "           2       0.68      0.61      0.64       667\n",
      "\n",
      "    accuracy                           0.67      2000\n",
      "   macro avg       0.67      0.67      0.67      2000\n",
      "weighted avg       0.67      0.67      0.67      2000\n",
      "\n"
     ]
    }
   ],
   "source": [
    "from sklearn.model_selection import train_test_split\n",
    "\n",
    "X_train, X_test, y_train, y_test = train_test_split(X, y, test_size= 0.2, random_state= 42)\n",
    "\n",
    "from sklearn.linear_model import LogisticRegression\n",
    "from sklearn.metrics import classification_report\n",
    "\n",
    "model= LogisticRegression()\n",
    "model.fit(X_train, y_train)\n",
    "\n",
    "y_pred= model.predict(X_test)\n",
    "report= classification_report(y_test, y_pred)\n",
    "print(report)"
   ]
  },
  {
   "cell_type": "code",
   "execution_count": 12,
   "id": "07085cb6-af55-4b95-b14f-8d9d00c1427f",
   "metadata": {},
   "outputs": [
    {
     "name": "stdout",
     "output_type": "stream",
     "text": [
      "              precision    recall  f1-score   support\n",
      "\n",
      "           0       0.89      0.90      0.90       691\n",
      "           1       0.84      0.84      0.84       642\n",
      "           2       0.88      0.87      0.88       667\n",
      "\n",
      "    accuracy                           0.87      2000\n",
      "   macro avg       0.87      0.87      0.87      2000\n",
      "weighted avg       0.87      0.87      0.87      2000\n",
      "\n"
     ]
    }
   ],
   "source": [
    "from xgboost import XGBClassifier\n",
    "\n",
    "model= XGBClassifier()\n",
    "model.fit(X_train, y_train)\n",
    "\n",
    "y_pred= model.predict(X_test)\n",
    "report= classification_report(y_test, y_pred)\n",
    "print(report)\n"
   ]
  }
 ],
 "metadata": {
  "kernelspec": {
   "display_name": "Python 3 (ipykernel)",
   "language": "python",
   "name": "python3"
  },
  "language_info": {
   "codemirror_mode": {
    "name": "ipython",
    "version": 3
   },
   "file_extension": ".py",
   "mimetype": "text/x-python",
   "name": "python",
   "nbconvert_exporter": "python",
   "pygments_lexer": "ipython3",
   "version": "3.13.7"
  }
 },
 "nbformat": 4,
 "nbformat_minor": 5
}
