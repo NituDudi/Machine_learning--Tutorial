{
 "cells": [
  {
   "cell_type": "code",
   "execution_count": 2,
   "id": "1a1ea7da-301f-4341-b47d-9544d7b17334",
   "metadata": {},
   "outputs": [],
   "source": [
    "import numpy as np\n",
    "from sklearn.datasets import make_classification\n",
    "from sklearn.model_selection import train_test_split\n",
    "\n",
    "X, y= make_classification(\n",
    "    n_features= 10,\n",
    "    n_samples= 1000,\n",
    "    n_informative= 8,\n",
    "    n_redundant= 2,\n",
    "    n_repeated=0,\n",
    "    n_classes= 2,\n",
    "    weights= [0.9, 0.1],\n",
    "    random_state= 42\n",
    ")\n",
    "\n",
    "X_train, X_test, y_train, y_test= train_test_split(X, y, test_size= 0.25, random_state= 42)"
   ]
  },
  {
   "cell_type": "code",
   "execution_count": 3,
   "id": "27daa8f1-9d4e-4a17-865e-33f1bca70430",
   "metadata": {},
   "outputs": [
    {
     "data": {
      "text/plain": [
       "Counter({np.int64(0): 897, np.int64(1): 103})"
      ]
     },
     "execution_count": 3,
     "metadata": {},
     "output_type": "execute_result"
    }
   ],
   "source": [
    "from collections import Counter\n",
    "\n",
    "Counter(y)"
   ]
  },
  {
   "cell_type": "code",
   "execution_count": 5,
   "id": "6674c9d8-cf62-4f43-aa45-90e3cfc81904",
   "metadata": {},
   "outputs": [
    {
     "name": "stdout",
     "output_type": "stream",
     "text": [
      "Counter({np.int64(0): 177, np.int64(1): 23})\n",
      "Counter({np.int64(0): 179, np.int64(1): 21})\n",
      "Counter({np.int64(0): 183, np.int64(1): 17})\n",
      "Counter({np.int64(0): 181, np.int64(1): 19})\n",
      "Counter({np.int64(0): 177, np.int64(1): 23})\n"
     ]
    }
   ],
   "source": [
    "from sklearn.model_selection import KFold\n",
    "\n",
    "kf= KFold(n_splits= 5, shuffle= True, random_state= 42)\n",
    "\n",
    "for train_idx, test_idx in kf.split(X, y):\n",
    "    X_train, X_test = X[train_idx], X[test_idx]\n",
    "    y_train, y_test= y[train_idx], y[test_idx]\n",
    "    print(Counter(y_test))"
   ]
  },
  {
   "cell_type": "code",
   "execution_count": 8,
   "id": "322653f7-d33d-4c44-b4c4-3933fc34cb68",
   "metadata": {},
   "outputs": [
    {
     "name": "stdout",
     "output_type": "stream",
     "text": [
      "Counter({np.int64(0): 180, np.int64(1): 20})\n",
      "Counter({np.int64(0): 180, np.int64(1): 20})\n",
      "Counter({np.int64(0): 179, np.int64(1): 21})\n",
      "Counter({np.int64(0): 179, np.int64(1): 21})\n",
      "Counter({np.int64(0): 179, np.int64(1): 21})\n"
     ]
    }
   ],
   "source": [
    "#Creates better balance of classes in folds\n",
    "from sklearn.model_selection import StratifiedKFold\n",
    "\n",
    "skf= StratifiedKFold(n_splits= 5, shuffle= True, random_state= 42)\n",
    "\n",
    "for train_idx, test_idx in skf.split(X, y):\n",
    "    X_train, X_test = X[train_idx], X[test_idx]\n",
    "    y_train, y_test= y[train_idx], y[test_idx]\n",
    "    print(Counter(y_test))"
   ]
  },
  {
   "cell_type": "code",
   "execution_count": 11,
   "id": "bedae683-30d8-4af5-abb5-2c3eb84006cd",
   "metadata": {},
   "outputs": [
    {
     "data": {
      "text/plain": [
       "np.float64(0.9019999999999999)"
      ]
     },
     "execution_count": 11,
     "metadata": {},
     "output_type": "execute_result"
    }
   ],
   "source": [
    "from sklearn.model_selection import cross_val_score\n",
    "from sklearn.linear_model import LogisticRegression\n",
    "\n",
    "score_lr= cross_val_score(LogisticRegression(), X, y, cv= skf)\n",
    "np.average(score_lr)"
   ]
  },
  {
   "cell_type": "code",
   "execution_count": 13,
   "id": "413322fd-6d03-415e-9756-160a4e3e31d2",
   "metadata": {},
   "outputs": [
    {
     "data": {
      "text/plain": [
       "np.float64(0.891)"
      ]
     },
     "execution_count": 13,
     "metadata": {},
     "output_type": "execute_result"
    }
   ],
   "source": [
    "from sklearn.tree import DecisionTreeClassifier\n",
    "\n",
    "score_dt= cross_val_score(DecisionTreeClassifier(), X, y, cv= skf)\n",
    "np.average(score_dt)"
   ]
  },
  {
   "cell_type": "code",
   "execution_count": 15,
   "id": "16dcf450-459c-4173-80f8-59667d35b122",
   "metadata": {},
   "outputs": [
    {
     "data": {
      "text/plain": [
       "np.float64(0.913)"
      ]
     },
     "execution_count": 15,
     "metadata": {},
     "output_type": "execute_result"
    }
   ],
   "source": [
    "from sklearn.ensemble import RandomForestClassifier\n",
    "\n",
    "score_rf= cross_val_score(RandomForestClassifier(), X, y, cv= skf)\n",
    "np.average(score_rf)"
   ]
  }
 ],
 "metadata": {
  "kernelspec": {
   "display_name": "Python 3 (ipykernel)",
   "language": "python",
   "name": "python3"
  },
  "language_info": {
   "codemirror_mode": {
    "name": "ipython",
    "version": 3
   },
   "file_extension": ".py",
   "mimetype": "text/x-python",
   "name": "python",
   "nbconvert_exporter": "python",
   "pygments_lexer": "ipython3",
   "version": "3.13.7"
  }
 },
 "nbformat": 4,
 "nbformat_minor": 5
}
